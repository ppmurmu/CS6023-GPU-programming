{
  "cells": [
    {
      "cell_type": "code",
      "execution_count": null,
      "metadata": {
        "id": "bRa1N_FDx92H"
      },
      "outputs": [],
      "source": [
        "!nvcc --version"
      ]
    },
    {
      "cell_type": "code",
      "execution_count": 26,
      "metadata": {
        "colab": {
          "base_uri": "https://localhost:8080/"
        },
        "id": "JTYTRPO7yJIO",
        "outputId": "7053bf0d-9e2a-43b7-9c06-23f0dec2b4bc"
      },
      "outputs": [
        {
          "output_type": "stream",
          "name": "stdout",
          "text": [
            "Overwriting file1.cu\n"
          ]
        }
      ],
      "source": [
        "%%writefile file1.cu\n",
        "#include<stdio.h>\n",
        "#include<cuda.h>\n",
        "\n",
        "__global__ void dkernel(int *d_mem, int n){\n",
        "    __shared__ int sharedRow[1024];\n",
        "    int row= blockIdx.x;\n",
        "    int col = threadIdx.x;\n",
        "    int globalIdx = row * n + col;\n",
        "    sharedRow[col] =d_mem[globalIdx];\n",
        "    __syncthreads();\n",
        "\n",
        "    if (col < n - 1) {\n",
        "        d_mem[globalIdx] += sharedRow[col + 1];\n",
        "    }\n",
        "}\n",
        "int main()\n",
        "{\n",
        "  int *h_mem, *d_mem;\n",
        "  int n=1024;\n",
        "  h_mem= (int*)malloc(n*n*sizeof(int));\n",
        "\n",
        "  //intitialize h_mem\n",
        "  for(int i=0;i<n*n;i++)\n",
        "  {\n",
        "      h_mem[i]=i;\n",
        "  }\n",
        "  cudaMalloc(&d_mem, n*n*sizeof(int));\n",
        "  cudaMemcpy(d_mem,h_mem,n*n*sizeof(int),cudaMemcpyHostToDevice);\n",
        "\n",
        "  //kernels\n",
        "  dkernel<<<n,n>>>(d_mem, n);\n",
        "\n",
        "\n",
        "  cudaDeviceSynchronize();\n",
        "   //copy back to host\n",
        "  cudaMemcpy(h_mem, d_mem, n*n*sizeof(int), cudaMemcpyDeviceToHost);\n",
        "\n",
        "  //print result\n",
        "  printf(\"Result: okay\\n\");\n",
        "  for(int i=0; i< 5; i++)\n",
        "  {\n",
        "    for(int j=0; j< 5; j++)\n",
        "    {\n",
        "      printf(\"%d \", h_mem[i*n+j]);\n",
        "    }\n",
        "    printf(\"\\n\");\n",
        "  }\n",
        "\n",
        "  //free memory\n",
        "  cudaFree(d_mem);\n",
        "  free(h_mem);\n",
        "  return 0;\n",
        "}"
      ]
    },
    {
      "cell_type": "code",
      "execution_count": 27,
      "metadata": {
        "id": "_BknMP4Ayfie"
      },
      "outputs": [],
      "source": [
        "!nvcc -arch=sm_75 file1.cu -o file1.out"
      ]
    },
    {
      "cell_type": "code",
      "execution_count": 28,
      "metadata": {
        "colab": {
          "base_uri": "https://localhost:8080/"
        },
        "id": "cszrJF5bypVl",
        "outputId": "6155abc1-6f9e-4f83-f404-97c48da5d0fb"
      },
      "outputs": [
        {
          "output_type": "stream",
          "name": "stdout",
          "text": [
            "Result: okay\n",
            "1 3 5 7 9 \n",
            "2049 2051 2053 2055 2057 \n",
            "4097 4099 4101 4103 4105 \n",
            "6145 6147 6149 6151 6153 \n",
            "8193 8195 8197 8199 8201 \n"
          ]
        }
      ],
      "source": [
        "!./file1.out"
      ]
    }
  ],
  "metadata": {
    "accelerator": "GPU",
    "colab": {
      "gpuType": "T4",
      "provenance": []
    },
    "kernelspec": {
      "display_name": "Python 3",
      "name": "python3"
    },
    "language_info": {
      "name": "python"
    }
  },
  "nbformat": 4,
  "nbformat_minor": 0
}