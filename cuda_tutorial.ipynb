{
  "nbformat": 4,
  "nbformat_minor": 0,
  "metadata": {
    "colab": {
      "provenance": [],
      "gpuType": "T4"
    },
    "kernelspec": {
      "name": "python3",
      "display_name": "Python 3"
    },
    "language_info": {
      "name": "python"
    },
    "accelerator": "GPU"
  },
  "cells": [
    {
      "cell_type": "code",
      "execution_count": null,
      "metadata": {
        "colab": {
          "base_uri": "https://localhost:8080/"
        },
        "id": "ao1UFqHuQ08W",
        "outputId": "fa8a7d19-fbc6-4305-bd0a-7404c1b4b298"
      },
      "outputs": [
        {
          "output_type": "stream",
          "name": "stdout",
          "text": [
            "Writing hello.cu\n"
          ]
        }
      ],
      "source": [
        "%%writefile hello.cu\n",
        "#include <stdio.h>\n",
        "#include <cuda.h>\n",
        "__global__ void dkernel() {\n",
        " printf(\"Hello World.\\n\");\n",
        "}\n",
        "int main() {\n",
        " dkernel<<<1, 32>>>();\n",
        " cudaDeviceSynchronize();\n",
        " return 0;\n",
        "}"
      ]
    },
    {
      "cell_type": "code",
      "source": [
        "!nvcc --version"
      ],
      "metadata": {
        "id": "B3FJLjEyRATq",
        "colab": {
          "base_uri": "https://localhost:8080/"
        },
        "outputId": "f1314b38-6164-4159-cbc1-9b2ab35a2983"
      },
      "execution_count": null,
      "outputs": [
        {
          "output_type": "stream",
          "name": "stdout",
          "text": [
            "nvcc: NVIDIA (R) Cuda compiler driver\n",
            "Copyright (c) 2005-2023 NVIDIA Corporation\n",
            "Built on Tue_Aug_15_22:02:13_PDT_2023\n",
            "Cuda compilation tools, release 12.2, V12.2.140\n",
            "Build cuda_12.2.r12.2/compiler.33191640_0\n"
          ]
        }
      ]
    },
    {
      "cell_type": "code",
      "source": [
        "%%writefile hello.cu\n",
        "#include <stdio.h>\n",
        "#include <cuda.h>\n",
        "__global__ void dkernel() {\n",
        " if ( blockIdx.x == 0 &&\n",
        "  blockIdx.y == 0 &&\n",
        "   blockIdx.z == 0) {\n",
        " printf(\"%d %d %d %d %d %d.\\n\", gridDim.x, gridDim.y, gridDim.z,\n",
        " blockDim.x, blockDim.y, blockDim.z);\n",
        " }\n",
        "}\n",
        "int main() {\n",
        "\n",
        " dim3 grid(2, 3, 4);\n",
        " dim3 block(5, 6, 7);\n",
        " dkernel<<<grid, block>>>();\n",
        " cudaDeviceSynchronize();\n",
        " return 0;\n",
        "}"
      ],
      "metadata": {
        "colab": {
          "base_uri": "https://localhost:8080/"
        },
        "id": "F-Dt_gpuvq8m",
        "outputId": "a0aa0483-bb36-4eed-eae6-f2ad5dcb91a1"
      },
      "execution_count": null,
      "outputs": [
        {
          "output_type": "stream",
          "name": "stdout",
          "text": [
            "Overwriting hello.cu\n"
          ]
        }
      ]
    },
    {
      "cell_type": "code",
      "source": [
        "!nvcc hello.cu"
      ],
      "metadata": {
        "colab": {
          "base_uri": "https://localhost:8080/"
        },
        "id": "D2zaOwjXwIXZ",
        "outputId": "6cfdaffb-a961-419c-9cac-c6a2d2ab0918"
      },
      "execution_count": null,
      "outputs": [
        {
          "output_type": "stream",
          "name": "stdout",
          "text": [
            "\u001b[01m\u001b[0m\u001b[01mhello.cu(12)\u001b[0m: \u001b[01;31merror\u001b[0m: identifier \"\u001b[01mdim2\u001b[0m\" is undefined\n",
            "   dim2 grid(1,2);\n",
            "   ^\n",
            "\n",
            "1 error detected in the compilation of \"hello.cu\".\n"
          ]
        }
      ]
    },
    {
      "cell_type": "code",
      "source": [
        "!./a.out"
      ],
      "metadata": {
        "colab": {
          "base_uri": "https://localhost:8080/"
        },
        "id": "_xiPkcZCwP2j",
        "outputId": "e830cc06-0985-40bb-c3e3-c8f5caa68ec9"
      },
      "execution_count": null,
      "outputs": [
        {
          "output_type": "stream",
          "name": "stdout",
          "text": [
            "2 3 4 5 6 7.\n"
          ]
        }
      ]
    },
    {
      "cell_type": "code",
      "source": [
        "%%writefile hello.cu\n",
        "#include <stdio.h>\n",
        "#include <cuda.h>\n",
        "__global__ void dkernel() {\n",
        " if ( blockIdx.x == 0 &&\n",
        "  blockIdx.y == 0 &&\n",
        "   blockIdx.z == 0) {\n",
        " printf(\"%d %d %d %d %d %d.\\n\", gridDim.x, gridDim.y, gridDim.z,\n",
        " blockDim.x, blockDim.y, blockDim.z);\n",
        " }\n",
        "}\n",
        "int main() {\n",
        "\n",
        " dim3 grid(2, 3, 4);\n",
        " dim3 block(5, 6, 7);\n",
        " dkernel<<<grid, block>>>();\n",
        " cudaDeviceSynchronize();\n",
        " return 0;\n",
        "}"
      ],
      "metadata": {
        "id": "ewROgInJ3Xim"
      },
      "execution_count": null,
      "outputs": []
    }
  ]
}